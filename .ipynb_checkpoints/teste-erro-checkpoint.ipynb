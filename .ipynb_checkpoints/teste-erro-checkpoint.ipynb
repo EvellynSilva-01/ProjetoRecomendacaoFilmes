{
 "cells": [
  {
   "cell_type": "code",
   "execution_count": null,
   "id": "ef69497a-6c15-455d-b5c1-73d043a28142",
   "metadata": {},
   "outputs": [],
   "source": [
    "from sklearn.feature_extraction.text import CountVectorizer\n",
    "from sklearn.metrics.pairwise import cosine_similarity\n",
    "\n",
    "sample_texts = [\n",
    "    \"Batman is a hero\",\n",
    "    \"Superman is a strong hero\",\n",
    "    \"Ironman is a tech genius\"\n",
    "]\n",
    "\n",
    "cv = CountVectorizer(max_features=5000, stop_words='english')\n",
    "vectors = cv.fit_transform(movies['tags']).toarray()\n",
    "\n",
    "similary = cosine_similarity(vectors)\n",
    "\n",
    "print(vectors)\n",
    "print(similarity)"
   ]
  },
  {
   "cell_type": "code",
   "execution_count": null,
   "id": "a6d17ef1-b987-4fa3-ab44-f31f3e312ff2",
   "metadata": {},
   "outputs": [],
   "source": [
    "def recomendar(filme, n=5):\n",
    "    print(f\"Procurando recomendações para: {filme}\")\n",
    "    filme = filme.lower()\n",
    "    \n",
    "titulos_lower = movies['title_x'].str.lower()\n",
    "\n",
    "if filme not in titulos_lower.values:\n",
    "    print(f\"Filme '{filme}' não encontrado no banco de dados.\")\n",
    "return\n",
    "\n",
    "idx = titulos_lower[titulos_lower == filme].index[0]\n",
    "\n",
    "distancias = list(enumerate(similarity[idx]))\n",
    "distancias = sorted(distancias, key=lambda x: x[1], reverse=True)[1:n+1]\n",
    "\n",
    "print(f\"\\n Recomendação parecidas com '{movies.iloc[idx].title_x}':\\n\")\n",
    "\n",
    "for i, (index, score) in enumerate(distancias, 1):\n",
    "    print(f\"{i}. {movies.iloc[index].title_x}\")"
   ]
  }
 ],
 "metadata": {
  "kernelspec": {
   "display_name": "Python 3 (ipykernel)",
   "language": "python",
   "name": "python3"
  },
  "language_info": {
   "codemirror_mode": {
    "name": "ipython",
    "version": 3
   },
   "file_extension": ".py",
   "mimetype": "text/x-python",
   "name": "python",
   "nbconvert_exporter": "python",
   "pygments_lexer": "ipython3",
   "version": "3.12.3"
  }
 },
 "nbformat": 4,
 "nbformat_minor": 5
}
