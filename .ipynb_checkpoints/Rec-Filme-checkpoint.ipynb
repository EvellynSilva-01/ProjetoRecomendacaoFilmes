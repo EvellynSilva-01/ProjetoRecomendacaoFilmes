{
 "cells": [
  {
   "cell_type": "code",
   "execution_count": null,
   "id": "7f6fe62f-6ff9-47ef-9166-61c6a9e398c8",
   "metadata": {},
   "outputs": [],
   "source": [
    "import pandas as pd\n",
    "\n",
    "# Carregar os arquivos CSV\n",
    "movies_df = pd.read_csv(\"tmdb_5000_movies.csv\")\n",
    "credits_df = pd.read_csv(\"tmdb_5000_credits.csv\")\n",
    "\n",
    "# Visualizar as primeiras linhas\n",
    "movies_df.head()"
   ]
  },
  {
   "cell_type": "code",
   "execution_count": null,
   "id": "0e5b3e92-b4b2-4475-abdd-c4fb1be57ccc",
   "metadata": {},
   "outputs": [],
   "source": [
    "# Renomear a coluna 'movies_id' para 'id' para permitir o merge\n",
    "credits_df.rename(columns={'movie_id': 'id'}, inplace=True)\n",
    "\n",
    "# Fazendo o merge e mantendo apenas a coluna 'title' do movies_df\n",
    "movies = movies_df.merge(credits_df, on='id')\n",
    "movies = movies [['id', 'title_x', 'overview', 'genres', 'keywords', 'cast', 'crew']]\n",
    "movies.rename(columns={'title_x': 'title'}, inplace=True)\n",
    "\n",
    "# Visualizar o resultado\n",
    "movies.head(2)"
   ]
  },
  {
   "cell_type": "code",
   "execution_count": null,
   "id": "f4c3e2b3-3aa8-4297-92b3-cc2f930b1eb7",
   "metadata": {},
   "outputs": [],
   "source": [
    "import pandas as pd\n",
    "\n",
    "# Tente carregar os arquivos\n",
    "try:\n",
    "    movies_df = pd.read_csv(\"tmdb_5000_movies.csv\")\n",
    "    credits_df = pd.read_csv(\"tmdb_5000_credits.csv\")\n",
    "    print(\"Arquivos carregados com sucesso!\")\n",
    "    print(\"movies_df\", movies_df.shape)\n",
    "    print(\"credits_df\", credits_df.shape)\n",
    "except Exception as e:\n",
    "    print(\"Erro ao carregar os arquivos\")"
   ]
  },
  {
   "cell_type": "code",
   "execution_count": null,
   "id": "3aa30138-d019-4b7f-9b89-62e82f27fbe9",
   "metadata": {},
   "outputs": [],
   "source": [
    "# Garantir que 'id' está nas duas tabelas\n",
    "credits_df.rename(columns={'movie_id': 'id'}, inplace=True)\n",
    "\n",
    "# Tentar fazer o merge\n",
    "try:\n",
    "    movies = movies_df.merge(credits_df, on='id')\n",
    "    print(\"Merge feito com sucesso\")\n",
    "    print(\"movies\", movies.shape)\n",
    "    print(\"Colunas disponíveis\", movies.columns.tolist())\n",
    "except Exception as e:\n",
    "    print(\"Erro ao carregar o merge\", e)"
   ]
  },
  {
   "cell_type": "code",
   "execution_count": null,
   "id": "c541fb46-b124-40c4-aa5a-fc0c68b19887",
   "metadata": {},
   "outputs": [],
   "source": [
    "movies.head()"
   ]
  },
  {
   "cell_type": "code",
   "execution_count": null,
   "id": "1a848d62-7ffa-441e-8c67-8cbc619c64ca",
   "metadata": {},
   "outputs": [],
   "source": [
    "# Colunas que vamos usar: genres, keywords, cast, crew\n",
    "movies = movies [['id', 'title_x', 'overview', 'genres', 'keywords', 'cast', 'crew']]\n",
    "\n",
    "movies.head()"
   ]
  },
  {
   "cell_type": "code",
   "execution_count": null,
   "id": "994a0f23-af13-4280-93bb-bf155f18e04b",
   "metadata": {},
   "outputs": [],
   "source": [
    "import ast\n",
    "\n",
    "def convert(obj):\n",
    "    try:\n",
    "        return [i['name'] for i in ast.literal_eval(obj)]\n",
    "    except:\n",
    "        return []\n",
    "        \n",
    "def get_director(obj):\n",
    "    try:\n",
    "        for i in ast.literal.eval(obj):\n",
    "            if i['job'] == 'Director':\n",
    "                return[i['name']]\n",
    "            return []\n",
    "    except Exception:\n",
    "            return []\n",
    "\n",
    "movies['genres'] = movies['genres'].apply(convert)\n",
    "movies['keywords'] = movies['keywords'].apply(convert)\n",
    "movies['cast'] = movies['cast'].apply(lambda x: convert(x)[:3]) # pegar só os 3 principais atores\n",
    "movies['crew'] = movies['crew'].apply(get_director)"
   ]
  },
  {
   "cell_type": "code",
   "execution_count": null,
   "id": "6254068c-c574-48a7-85ef-952160d7ffc3",
   "metadata": {},
   "outputs": [],
   "source": [
    "# Preencher overview nulo com string vazia\n",
    "movies['overview'] = movies['overview'].fillna('')\n",
    "\n",
    "# Juntar tudo em uma só coluna\n",
    "movies['tags'] = movies['overview'] + '' + \\\n",
    "                 movies['genres'].apply(lambda x: ''.join(x)) + '' + \\\n",
    "                 movies['keywords'].apply(lambda x: ''.join(x)) + '' + \\\n",
    "                 movies['cast'].apply(lambda x: ''.join(x)) + '' + \\\n",
    "                 movies['crew'].apply(lambda x: ''.join(x))"
   ]
  },
  {
   "cell_type": "code",
   "execution_count": null,
   "id": "13d548cc-0841-4700-85fe-9b94f11c3c27",
   "metadata": {},
   "outputs": [],
   "source": [
    "from sklearn.feature_extraction.text import CountVectorizer\n",
    "from sklearn.metrics.pairwise import cosine_similarity"
   ]
  },
  {
   "cell_type": "code",
   "execution_count": null,
   "id": "e5fc8be8-1586-4006-914e-2ae7878f0f0d",
   "metadata": {},
   "outputs": [],
   "source": [
    "cv = CountVectorizer(max_features=5000, stop_words='english')\n",
    "vectors = cv.fit_transform(movies['tags']).toarray()\n",
    "\n",
    "similarity = cosine_similarity(vectors)"
   ]
  },
  {
   "cell_type": "code",
   "execution_count": null,
   "id": "0fba93b1-6e6d-42cf-8b77-41fd6b3e987d",
   "metadata": {},
   "outputs": [],
   "source": [
    "def recomendar(filme, n=5):\n",
    "    print(\"Iniciando função...\")\n",
    "\n",
    "    print(\"Filme recebido:\", filme)\n",
    "    filme = filme.lower()\n",
    "    print(\"Filme em minúsculo:\", filme)\n",
    "\n",
    "    print(\"Verificando títulos disponíveis...\")\n",
    "    titulos_lower = movies['title_x'].str.lower()\n",
    "    print(\"Primeiros títulos:\", titulos_lower.head().to_list())\n",
    "\n",
    "    if filme not in titulos_lower.values:\n",
    "        print(f\"Filme '{filme}' não encontrado no banco de dados.\")\n",
    "        return\n",
    "\n",
    "    print(\"Filme encontrado!\")\n",
    "    idx = titulos_lower[titulos_lower == filme].index[0]\n",
    "\n",
    "    print(\"Calculando similaridade...\")\n",
    "    distancias = list(enumerate(similarity[idx]))\n",
    "    distancias = sorted(distancias, key=lambda x: x[1], reverse=True)[1:n+1]\n",
    "    \n",
    "    print(f\"\\n Recomendação parecidas com '{movies.iloc[idx].title_x}':\\n\")\n",
    "    for i, (index, score) in enumerate(distancias, 1):\n",
    "        print(f\"{i}. {movies.iloc[index].title_x}\")"
   ]
  },
  {
   "cell_type": "code",
   "execution_count": null,
   "id": "4251338e-b9db-470b-926f-97dae21297cd",
   "metadata": {},
   "outputs": [],
   "source": [
    "# Exemplo 01 de uso:\n",
    "\n",
    "recomendar(\"Apollo 18\")"
   ]
  },
  {
   "cell_type": "code",
   "execution_count": null,
   "id": "e364ae01-6766-4409-a61c-535007faeffb",
   "metadata": {},
   "outputs": [],
   "source": [
    "# Exemplo 02 de uso:\n",
    "\n",
    "recomendar(\"Avatar\")"
   ]
  }
 ],
 "metadata": {
  "kernelspec": {
   "display_name": "Python 3 (ipykernel)",
   "language": "python",
   "name": "python3"
  },
  "language_info": {
   "codemirror_mode": {
    "name": "ipython",
    "version": 3
   },
   "file_extension": ".py",
   "mimetype": "text/x-python",
   "name": "python",
   "nbconvert_exporter": "python",
   "pygments_lexer": "ipython3",
   "version": "3.12.3"
  }
 },
 "nbformat": 4,
 "nbformat_minor": 5
}
