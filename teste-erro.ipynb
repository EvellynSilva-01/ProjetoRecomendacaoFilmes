{
 "cells": [
  {
   "cell_type": "code",
   "execution_count": 1,
   "id": "ef69497a-6c15-455d-b5c1-73d043a28142",
   "metadata": {},
   "outputs": [
    {
     "ename": "AttributeError",
     "evalue": "'CountVectorizer' object has no attribute 'fit_transfom'",
     "output_type": "error",
     "traceback": [
      "\u001b[31m---------------------------------------------------------------------------\u001b[39m",
      "\u001b[31mAttributeError\u001b[39m                            Traceback (most recent call last)",
      "\u001b[36mCell\u001b[39m\u001b[36m \u001b[39m\u001b[32mIn[1]\u001b[39m\u001b[32m, line 11\u001b[39m\n\u001b[32m      4\u001b[39m sample_texts = [\n\u001b[32m      5\u001b[39m     \u001b[33m\"\u001b[39m\u001b[33mBatman is a hero\u001b[39m\u001b[33m\"\u001b[39m,\n\u001b[32m      6\u001b[39m     \u001b[33m\"\u001b[39m\u001b[33mSuperman is a strong hero\u001b[39m\u001b[33m\"\u001b[39m,\n\u001b[32m      7\u001b[39m     \u001b[33m\"\u001b[39m\u001b[33mIronman is a tech genius\u001b[39m\u001b[33m\"\u001b[39m\n\u001b[32m      8\u001b[39m ]\n\u001b[32m     10\u001b[39m cv = CountVectorizer(max_features=\u001b[32m5000\u001b[39m, stop_words=\u001b[33m'\u001b[39m\u001b[33menglish\u001b[39m\u001b[33m'\u001b[39m)\n\u001b[32m---> \u001b[39m\u001b[32m11\u001b[39m vectors = \u001b[43mcv\u001b[49m\u001b[43m.\u001b[49m\u001b[43mfit_transfom\u001b[49m(movies[\u001b[33m'\u001b[39m\u001b[33mtags\u001b[39m\u001b[33m'\u001b[39m]).toarray()\n\u001b[32m     13\u001b[39m similary = cosine_similarity(vectors)\n\u001b[32m     15\u001b[39m \u001b[38;5;28mprint\u001b[39m(vectors)\n",
      "\u001b[31mAttributeError\u001b[39m: 'CountVectorizer' object has no attribute 'fit_transfom'"
     ]
    }
   ],
   "source": [
    "from sklearn.feature_extraction.text import CountVectorizer\n",
    "from sklearn.metrics.pairwise import cosine_similarity\n",
    "\n",
    "sample_texts = [\n",
    "    \"Batman is a hero\",\n",
    "    \"Superman is a strong hero\",\n",
    "    \"Ironman is a tech genius\"\n",
    "]\n",
    "\n",
    "cv = CountVectorizer(max_features=5000, stop_words='english')\n",
    "vectors = cv.fit_transfom(movies['tags']).toarray()\n",
    "\n",
    "similary = cosine_similarity(vectors)\n",
    "\n",
    "print(vectors)\n",
    "print(similarity)"
   ]
  }
 ],
 "metadata": {
  "kernelspec": {
   "display_name": "Python 3 (ipykernel)",
   "language": "python",
   "name": "python3"
  },
  "language_info": {
   "codemirror_mode": {
    "name": "ipython",
    "version": 3
   },
   "file_extension": ".py",
   "mimetype": "text/x-python",
   "name": "python",
   "nbconvert_exporter": "python",
   "pygments_lexer": "ipython3",
   "version": "3.12.3"
  }
 },
 "nbformat": 4,
 "nbformat_minor": 5
}
